{
  "nbformat": 4,
  "nbformat_minor": 0,
  "metadata": {
    "colab": {
      "provenance": [],
      "authorship_tag": "ABX9TyMZGwAEm3864bQce0e8WK5S",
      "include_colab_link": true
    },
    "kernelspec": {
      "name": "python3",
      "display_name": "Python 3"
    },
    "language_info": {
      "name": "python"
    }
  },
  "cells": [
    {
      "cell_type": "markdown",
      "metadata": {
        "id": "view-in-github",
        "colab_type": "text"
      },
      "source": [
        "<a href=\"https://colab.research.google.com/github/Steeven117/COLAB_3_Matrices/blob/main/matrices.ipynb\" target=\"_parent\"><img src=\"https://colab.research.google.com/assets/colab-badge.svg\" alt=\"Open In Colab\"/></a>"
      ]
    },
    {
      "cell_type": "markdown",
      "source": [
        "# "
      ],
      "metadata": {
        "id": "Q_GBx1yiKw8F"
      }
    },
    {
      "cell_type": "code",
      "source": [
        "# MATRICES\n",
        "\n",
        "M = [[1,2,3],[4,5,6],[7,8,9]]\n",
        "\n",
        "for i in range(3):\n",
        "  print()\n",
        "  for j in range(3):\n",
        "    print(M[i][j], end=\" \")"
      ],
      "metadata": {
        "id": "-jojYPfmMf0d"
      },
      "execution_count": null,
      "outputs": []
    },
    {
      "cell_type": "code",
      "source": [
        "# Generacion de una matriz\n",
        "import random\n",
        "\n",
        "#Dimensiones de la matriz\n",
        "m = int(input(\"No. de filas de la matriz: \"))\n",
        "n = int(input(\"No. de columnas de la matriz: \"))\n",
        "\n",
        "# creación de la matriz\n",
        "M= []\n",
        "for i in range(m):\n",
        "  M.append([])\n",
        "  for j in range(n):\n",
        "    M[i].append(random.randint(0,1))\n",
        "\n",
        "\n",
        "# mostrar matriz\n",
        "for k in range(m):\n",
        "  print()\n",
        "  for j in range(n):\n",
        "    print(M[k][j] , end=\"\\t\")\n",
        "\n",
        "# suma de los elementos de la matriz\n",
        "suma=0\n",
        "for i in range(m):\n",
        "  for j in range(n):\n",
        "    suma = suma + M[i][j]\n",
        "  \n",
        "print(\"\\n\\La suma de la matriz es: \", suma)"
      ],
      "metadata": {
        "id": "Oh0YTmG4MnON"
      },
      "execution_count": null,
      "outputs": []
    },
    {
      "cell_type": "code",
      "source": [
        "#Suma de los elementos de la triangular superior de una matriz\n",
        "def sumar_triangular_superiror(matriz):\n",
        "    suma = 0\n",
        "    n = len(matriz)\n",
        "    for j in range(n):\n",
        "        for i in range(j + 1):\n",
        "            suma += matriz[i][j]\n",
        "    return suma\n",
        "\n",
        "# Numero de filas y columnas\n",
        "filas = int(input(\"Ingrese el número de filas: \"))\n",
        "columnas = int(input(\"Ingrese el número de columnas: \"))\n",
        "\n",
        "# Lista vacia para almacenar la matriz\n",
        "matriz = []\n",
        "\n",
        "# Valores de la matriz\n",
        "for i in range(filas):\n",
        "    fila = []\n",
        "    for j in range(columnas):\n",
        "        elemento = int(input(f\"Ingrese el elemento para la posición [{i}][{j}]: \"))\n",
        "        fila.append(elemento)\n",
        "    matriz.append(fila)\n",
        "\n",
        "# Imprimir la matriz\n",
        "for fila in matriz:\n",
        "    print(fila)\n",
        "\n",
        "# Calcular y mostrar la suma de la triangular superior\n",
        "suma = sumar_triangular_superiror(matriz)\n",
        "print(\"La suma de la triangular superior es:\", suma)"
      ],
      "metadata": {
        "id": "l1xXgkDZS22d"
      },
      "execution_count": null,
      "outputs": []
    },
    {
      "cell_type": "code",
      "source": [
        "#Suma de los elementos de la triangular inferior de una matriz\n",
        "def sumar_triangular_inferior(matriz):\n",
        "    suma = 0\n",
        "    n = len(matriz)\n",
        "    for i in range(n):\n",
        "        for j in range(i + 1):\n",
        "            suma += matriz[i][j]\n",
        "    return suma\n",
        "\n",
        "# Numero de filas y columnas\n",
        "filas = int(input(\"Ingrese el número de filas: \"))\n",
        "columnas = int(input(\"Ingrese el número de columnas: \"))\n",
        "\n",
        "# Lista vacia para almacenar la matriz\n",
        "matriz = []\n",
        "\n",
        "# Valores de la matriz\n",
        "for i in range(filas):\n",
        "    fila = []\n",
        "    for j in range(columnas):\n",
        "        elemento = int(input(f\"Ingrese el elemento para la posición [{i}][{j}]: \"))\n",
        "        fila.append(elemento)\n",
        "    matriz.append(fila)\n",
        "\n",
        "# Imprimir la matriz\n",
        "for fila in matriz:\n",
        "    print(fila)\n",
        "\n",
        "# Calcular y mostrar la suma de la triangular inferior\n",
        "suma = sumar_triangular_inferior(matriz)\n",
        "print(\"La suma de la triangular inferior es:\", suma)"
      ],
      "metadata": {
        "id": "fUIOybpvS2vF"
      },
      "execution_count": null,
      "outputs": []
    },
    {
      "cell_type": "code",
      "source": [
        "#Suma de la diagonal secundaria de una matriz\n",
        "\n",
        "def sumar_diagonal_secundaria(matriz):\n",
        "    n = len(matriz)\n",
        "    suma = 0\n",
        "    for i in range(n):\n",
        "        suma += matriz[i][n - i - 1]\n",
        "    return suma\n",
        "\n",
        "# Numero de filas y columnas :v\n",
        "filas = int(input(\"Ingrese el número de filas: \"))\n",
        "columnas = int(input(\"Ingrese el número de columnas: \"))\n",
        "\n",
        "# Lista vacia para almacenar la matriz\n",
        "matriz = []\n",
        "\n",
        "# Se ingresa los valores a la matriz\n",
        "for i in range(filas):\n",
        "    # Lista vacía para cada fila\n",
        "    fila = []\n",
        "    for j in range(columnas):\n",
        "        # Agregar elementos a la fila\n",
        "        elemento = int(input(f\"Ingrese el elemento para la posición [{i}][{j}]: \"))\n",
        "        fila.append(elemento)\n",
        "    # Agregar la fila completa a la matriz\n",
        "    matriz.append(fila)\n",
        "\n",
        "# Imprimir la matriz\n",
        "for fila in matriz:\n",
        "    print(fila)\n",
        "\n",
        "# Calcular y mostrar la suma de la diagonal secundaria\n",
        "suma = sumar_diagonal_secundaria(matriz)\n",
        "print(\"La suma de la diagonal secundaria es:\", suma)\n"
      ],
      "metadata": {
        "id": "yZ-0bTANTRAj"
      },
      "execution_count": null,
      "outputs": []
    },
    {
      "cell_type": "code",
      "source": [
        "#Suma de todos los elementos perifericos de una matriz\n",
        "#suma de los elementos perisfericos\n",
        "import random\n",
        "\n",
        "m = int(input('Numero de filas de la Matriz: '))\n",
        "n = int(input('Numero de columnas de la Matriz: '))\n",
        "\n",
        "M = []\n",
        "for i in range(m):\n",
        "    M.append([])\n",
        "    for j in range(n):\n",
        "        M[i].append(random.randint(1, 9))\n",
        "\n",
        "suma_periferica = 0\n",
        "for i in range(m):\n",
        "    for j in range(n):\n",
        "        if i == 0 or i == m - 1 or j == 0 or j == n - 1:\n",
        "            suma_periferica += M[i][j]\n",
        "\n",
        "for k in range(m):\n",
        "    print()\n",
        "    for j in range(n):\n",
        "        print(M[k][j], end='\\t')\n",
        "\n",
        "print(\"\\nLa suma de los elementos periféricos es:\", suma_periferica)"
      ],
      "metadata": {
        "id": "Qknjj_06TnRh"
      },
      "execution_count": null,
      "outputs": []
    }
  ]
}